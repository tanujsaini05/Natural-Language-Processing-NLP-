{
  "cells": [
    {
      "cell_type": "markdown",
      "metadata": {
        "id": "view-in-github",
        "colab_type": "text"
      },
      "source": [
        "<a href=\"https://colab.research.google.com/github/tanujsaini05/Natural-Language-Processing-NLP-/blob/main/Spacy_NLP_Basics.ipynb\" target=\"_parent\"><img src=\"https://colab.research.google.com/assets/colab-badge.svg\" alt=\"Open In Colab\"/></a>"
      ]
    },
    {
      "cell_type": "code",
      "execution_count": null,
      "id": "e4349679",
      "metadata": {
        "id": "e4349679",
        "outputId": "513f7b0f-13b0-4faa-f902-040a55c135c0"
      },
      "outputs": [
        {
          "name": "stdout",
          "output_type": "stream",
          "text": [
            "^C\n",
            "Note: you may need to restart the kernel to use updated packages.\n"
          ]
        }
      ],
      "source": [
        "#pip uninstall spacy"
      ]
    },
    {
      "cell_type": "code",
      "execution_count": null,
      "id": "c9b475f1",
      "metadata": {
        "id": "c9b475f1"
      },
      "outputs": [],
      "source": [
        "import spacy"
      ]
    },
    {
      "cell_type": "code",
      "execution_count": null,
      "id": "18b19af3",
      "metadata": {
        "id": "18b19af3"
      },
      "outputs": [],
      "source": [
        "nlp=spacy.load(\"en_core_web_sm\")"
      ]
    },
    {
      "cell_type": "code",
      "execution_count": null,
      "id": "da6e7a5e",
      "metadata": {
        "id": "da6e7a5e"
      },
      "outputs": [],
      "source": [
        "doc=nlp(u'Tesla for new startups for $6 millon and it isn\\'t working')"
      ]
    },
    {
      "cell_type": "code",
      "execution_count": null,
      "id": "6d004a15",
      "metadata": {
        "id": "6d004a15",
        "outputId": "504c9bd6-97fd-4b9d-9b55-666570d64228"
      },
      "outputs": [
        {
          "name": "stdout",
          "output_type": "stream",
          "text": [
            "token  , part of speech,  dependecy\n",
            "Tesla PROPN nsubj\n",
            "for ADP prep\n",
            "new ADJ amod\n",
            "startups NOUN pobj\n",
            "for ADP prep\n",
            "$ SYM nmod\n",
            "6 NUM nummod\n",
            "millon NOUN pobj\n",
            "and CCONJ cc\n",
            "it PRON nsubj\n",
            "is AUX aux\n",
            "n't PART neg\n",
            "working VERB ROOT\n"
          ]
        }
      ],
      "source": [
        "print(\"token  , part of speech,  dependecy\")\n",
        "for token in doc:\n",
        "\n",
        "    print(token.text,token.pos_,token.dep_)"
      ]
    },
    {
      "cell_type": "code",
      "execution_count": null,
      "id": "37464cc3",
      "metadata": {
        "id": "37464cc3",
        "outputId": "407c369d-23b0-4731-82c9-128700bcbf44"
      },
      "outputs": [
        {
          "data": {
            "text/plain": [
              "[('tok2vec', <spacy.pipeline.tok2vec.Tok2Vec at 0x204a7236e10>),\n",
              " ('tagger', <spacy.pipeline.tagger.Tagger at 0x204a7236030>),\n",
              " ('parser', <spacy.pipeline.dep_parser.DependencyParser at 0x204a714d9a0>),\n",
              " ('attribute_ruler',\n",
              "  <spacy.pipeline.attributeruler.AttributeRuler at 0x204a73ff790>),\n",
              " ('lemmatizer', <spacy.lang.en.lemmatizer.EnglishLemmatizer at 0x204a73b80d0>),\n",
              " ('ner', <spacy.pipeline.ner.EntityRecognizer at 0x204a714dcb0>)]"
            ]
          },
          "execution_count": 5,
          "metadata": {},
          "output_type": "execute_result"
        }
      ],
      "source": [
        "nlp.pipeline"
      ]
    },
    {
      "cell_type": "code",
      "execution_count": null,
      "id": "d3fa618e",
      "metadata": {
        "id": "d3fa618e",
        "outputId": "0e1b08e7-1fb5-47b6-cb6c-465e3541a2bf"
      },
      "outputs": [
        {
          "data": {
            "text/plain": [
              "False"
            ]
          },
          "execution_count": 6,
          "metadata": {},
          "output_type": "execute_result"
        }
      ],
      "source": [
        "doc[0].dep_    # dependecy\n",
        "\n",
        "doc[0].lemma_   # root word|\n",
        "\n",
        "doc[0].pos_    # part of speech\n",
        "\n",
        "doc[0].shape_    # capatalize, digit, panuctation\n",
        "\n",
        "doc[0].tag_   # it will give all the details about pos\n",
        "\n",
        "doc[0].is_alpha # is the token an alpha character\n",
        "\n",
        "doc[0].is_stop   # is the token part of a stop list"
      ]
    },
    {
      "cell_type": "code",
      "execution_count": null,
      "id": "96ad52aa",
      "metadata": {
        "id": "96ad52aa",
        "outputId": "5276ed9b-c7e7-4165-d9a3-a5b6173459ef"
      },
      "outputs": [
        {
          "data": {
            "text/plain": [
              "Tesla for new startups for $6 millon and it isn't working"
            ]
          },
          "execution_count": 7,
          "metadata": {},
          "output_type": "execute_result"
        }
      ],
      "source": [
        "doc"
      ]
    },
    {
      "cell_type": "code",
      "execution_count": null,
      "id": "99ce0caa",
      "metadata": {
        "id": "99ce0caa",
        "outputId": "2e3a4c14-76fd-4592-d592-a3bde0b43ffd"
      },
      "outputs": [
        {
          "data": {
            "text/plain": [
              "spacy.tokens.span.Span"
            ]
          },
          "execution_count": 8,
          "metadata": {},
          "output_type": "execute_result"
        }
      ],
      "source": [
        "type(doc[1:12])"
      ]
    },
    {
      "cell_type": "code",
      "execution_count": null,
      "id": "bd28ec18",
      "metadata": {
        "id": "bd28ec18"
      },
      "outputs": [],
      "source": [
        "doc3=nlp(u'Hi! this is Tanuj and he broke up completely so just this is the fuck up.Kunal he is the bro who is supporting me completrely')"
      ]
    },
    {
      "cell_type": "code",
      "execution_count": null,
      "id": "f5914bc0",
      "metadata": {
        "id": "f5914bc0",
        "outputId": "2470faee-457d-442e-e0db-bb06bd081753"
      },
      "outputs": [
        {
          "name": "stdout",
          "output_type": "stream",
          "text": [
            "Hi! this is Tanuj and he broke up completely so just this is the fuck up.\n",
            "Kunal he is the Bro who is supporting me completrely\n"
          ]
        }
      ],
      "source": [
        "for sent in nlp(u'Hi! this is Tanuj and he broke up completely so just this is the fuck up. Kunal he is the Bro who is supporting me completrely').sents:\n",
        "    print(sent)"
      ]
    },
    {
      "cell_type": "code",
      "execution_count": null,
      "id": "8084ca7e",
      "metadata": {
        "id": "8084ca7e",
        "outputId": "72f33e48-3b9c-4278-f418-0c6116d17051"
      },
      "outputs": [
        {
          "data": {
            "text/plain": [
              "True"
            ]
          },
          "execution_count": 11,
          "metadata": {},
          "output_type": "execute_result"
        }
      ],
      "source": [
        "doc3[18].is_sent_start  # check wheather it is the sentence start or not"
      ]
    },
    {
      "cell_type": "code",
      "execution_count": null,
      "id": "caf49da3",
      "metadata": {
        "id": "caf49da3"
      },
      "outputs": [],
      "source": [
        "# let's start tokenisation"
      ]
    },
    {
      "cell_type": "code",
      "execution_count": null,
      "id": "396febbf",
      "metadata": {
        "id": "396febbf",
        "outputId": "36bdb53a-2196-46d9-bcca-be2d854d25f8"
      },
      "outputs": [
        {
          "name": "stdout",
          "output_type": "stream",
          "text": [
            "Tesla\n",
            "for\n",
            "new\n",
            "startups\n",
            "for\n",
            "$\n",
            "6\n",
            "millon\n",
            "and\n",
            "it\n",
            "is\n",
            "n't\n",
            "working\n"
          ]
        }
      ],
      "source": [
        "for i in doc:\n",
        "    print(i)# that is a token"
      ]
    },
    {
      "cell_type": "code",
      "execution_count": null,
      "id": "01123352",
      "metadata": {
        "id": "01123352",
        "outputId": "166989ca-83fb-410d-e5e6-326ac21c289a"
      },
      "outputs": [
        {
          "name": "stdout",
          "output_type": "stream",
          "text": [
            "787\n"
          ]
        }
      ],
      "source": [
        "print(len(doc[3].vocab))"
      ]
    },
    {
      "cell_type": "code",
      "execution_count": null,
      "id": "783c17e1",
      "metadata": {
        "id": "783c17e1",
        "outputId": "03d92c2a-e4f6-498e-a079-dffea98323eb"
      },
      "outputs": [
        {
          "name": "stdout",
          "output_type": "stream",
          "text": [
            "PERSON\n"
          ]
        }
      ],
      "source": [
        "for j in doc3.ents:\n",
        "    print(j.label_)"
      ]
    },
    {
      "cell_type": "code",
      "execution_count": null,
      "id": "e2584ebf",
      "metadata": {
        "id": "e2584ebf",
        "outputId": "8269c412-b44d-40d0-9261-389c53f9222c"
      },
      "outputs": [
        {
          "name": "stdout",
          "output_type": "stream",
          "text": [
            "this\n",
            "Tanuj\n",
            "he\n",
            "this\n",
            "the fuck\n",
            "he\n",
            "the bro\n",
            "who\n",
            "me\n"
          ]
        }
      ],
      "source": [
        "for chunks in doc3.noun_chunks:\n",
        "    print(chunks)"
      ]
    },
    {
      "cell_type": "code",
      "execution_count": null,
      "id": "49acf4d5",
      "metadata": {
        "id": "49acf4d5"
      },
      "outputs": [],
      "source": [
        "from spacy import displacy"
      ]
    },
    {
      "cell_type": "code",
      "execution_count": null,
      "id": "46141987",
      "metadata": {
        "id": "46141987",
        "outputId": "48dd878d-0e56-45ce-d466-e04adf43769e"
      },
      "outputs": [
        {
          "data": {
            "text/html": [
              "<span class=\"tex2jax_ignore\"><div class=\"entities\" style=\"line-height: 2.5; direction: ltr\">Hi! this is \n",
              "<mark class=\"entity\" style=\"background: #aa9cfc; padding: 0.45em 0.6em; margin: 0 0.25em; line-height: 1; border-radius: 0.35em;\">\n",
              "    Tanuj\n",
              "    <span style=\"font-size: 0.8em; font-weight: bold; line-height: 1; border-radius: 0.35em; vertical-align: middle; margin-left: 0.5rem\">PERSON</span>\n",
              "</mark>\n",
              " and he broke up completely so just this is the fuck up.Kunal he is the bro who is supporting me completrely</div></span>"
            ],
            "text/plain": [
              "<IPython.core.display.HTML object>"
            ]
          },
          "metadata": {},
          "output_type": "display_data"
        }
      ],
      "source": [
        "displacy.render(doc3,style=\"ent\",jupyter=True,options={\"distance\":50})"
      ]
    },
    {
      "cell_type": "code",
      "execution_count": null,
      "id": "740c7939",
      "metadata": {
        "id": "740c7939"
      },
      "outputs": [],
      "source": [
        "# Stemming"
      ]
    },
    {
      "cell_type": "code",
      "execution_count": null,
      "id": "e6436f63",
      "metadata": {
        "id": "e6436f63"
      },
      "outputs": [],
      "source": [
        "import nltk"
      ]
    },
    {
      "cell_type": "code",
      "execution_count": null,
      "id": "5f28959b",
      "metadata": {
        "id": "5f28959b"
      },
      "outputs": [],
      "source": [
        "from nltk.stem.porter import PorterStemmer"
      ]
    },
    {
      "cell_type": "code",
      "execution_count": null,
      "id": "781e6234",
      "metadata": {
        "id": "781e6234"
      },
      "outputs": [],
      "source": [
        "p_stemmer= PorterStemmer()"
      ]
    },
    {
      "cell_type": "code",
      "execution_count": null,
      "id": "4d07fb3d",
      "metadata": {
        "id": "4d07fb3d"
      },
      "outputs": [],
      "source": [
        "# stop words"
      ]
    },
    {
      "cell_type": "code",
      "execution_count": null,
      "id": "08a9cc3c",
      "metadata": {
        "id": "08a9cc3c",
        "outputId": "b40d3ed0-e613-4227-e87a-be5626292d84"
      },
      "outputs": [
        {
          "data": {
            "text/plain": [
              "True"
            ]
          },
          "execution_count": 13,
          "metadata": {},
          "output_type": "execute_result"
        }
      ],
      "source": [
        "doc3[2].is_stop"
      ]
    },
    {
      "cell_type": "code",
      "execution_count": null,
      "id": "3868bf68",
      "metadata": {
        "id": "3868bf68"
      },
      "outputs": [],
      "source": [
        "nlp.Defaults.stop_words.add(\"btw\")"
      ]
    },
    {
      "cell_type": "code",
      "execution_count": null,
      "id": "073cb0bb",
      "metadata": {
        "id": "073cb0bb",
        "outputId": "d7cc28e8-e241-4e73-c529-c28f64263490"
      },
      "outputs": [
        {
          "data": {
            "text/plain": [
              "True"
            ]
          },
          "execution_count": 15,
          "metadata": {},
          "output_type": "execute_result"
        }
      ],
      "source": [
        "nlp.vocab[\"btw\"].is_stop== True"
      ]
    },
    {
      "cell_type": "code",
      "execution_count": null,
      "id": "740f9556",
      "metadata": {
        "id": "740f9556",
        "outputId": "4bc92c9f-5070-487c-bb3c-36cb5ff88588"
      },
      "outputs": [
        {
          "data": {
            "text/plain": [
              "327"
            ]
          },
          "execution_count": 16,
          "metadata": {},
          "output_type": "execute_result"
        }
      ],
      "source": [
        "len(nlp.Defaults.stop_words)"
      ]
    },
    {
      "cell_type": "code",
      "execution_count": null,
      "id": "d337da39",
      "metadata": {
        "id": "d337da39"
      },
      "outputs": [],
      "source": [
        "# Phrase matching and vocabluary"
      ]
    },
    {
      "cell_type": "code",
      "execution_count": null,
      "id": "3afce7d4",
      "metadata": {
        "id": "3afce7d4"
      },
      "outputs": [],
      "source": [
        "from spacy.matcher import Matcher"
      ]
    },
    {
      "cell_type": "code",
      "execution_count": null,
      "id": "2ad440dd",
      "metadata": {
        "id": "2ad440dd"
      },
      "outputs": [],
      "source": [
        "matcher=Matcher(nlp.vocab)"
      ]
    },
    {
      "cell_type": "code",
      "execution_count": null,
      "id": "6d4bec8f",
      "metadata": {
        "id": "6d4bec8f"
      },
      "outputs": [],
      "source": [
        "pattern1=[{\"LOWER\":\"solarpower\"}]\n",
        "pattern2=[{\"LOWER\":\"solar\"},{\"IS_PUNCT\":True},{\"LOWER\":'power'}]\n",
        "pattern3=[{\"LOWER\":'solar'},{'LOWER':'power'}]\n",
        "\n",
        "\n",
        "matcher.add('SolarPower', [pattern1, pattern2, pattern3])"
      ]
    },
    {
      "cell_type": "code",
      "execution_count": null,
      "id": "6116d649",
      "metadata": {
        "id": "6116d649",
        "outputId": "3d54f279-d2ee-46c9-fab8-2d0a16e2ab26"
      },
      "outputs": [
        {
          "name": "stdout",
          "output_type": "stream",
          "text": [
            "[(8656102463236116519, 0, 1), (8656102463236116519, 2, 3)]\n"
          ]
        }
      ],
      "source": [
        "doc4=nlp(\"Solarpower is solarpower\")\n",
        "found_matcher=matcher(doc4)\n",
        "print(found_matcher)"
      ]
    },
    {
      "cell_type": "code",
      "execution_count": null,
      "id": "cd0d8472",
      "metadata": {
        "id": "cd0d8472"
      },
      "outputs": [],
      "source": [
        "doc5=nlp(u\"This is university is just fucking bad.I don't deserve to be here\")"
      ]
    },
    {
      "cell_type": "code",
      "execution_count": null,
      "id": "b0bb7ee7",
      "metadata": {
        "id": "b0bb7ee7",
        "outputId": "f412f2e5-b3db-4416-eebf-918b685eec99"
      },
      "outputs": [
        {
          "name": "stdout",
          "output_type": "stream",
          "text": [
            "text is This       and here is the part of speech is PRON       and this is the explainaltion determiner\n",
            "text is is         and here is the part of speech is AUX        and this is the explainaltion verb, 3rd person singular present\n",
            "text is university and here is the part of speech is NOUN       and this is the explainaltion noun, singular or mass\n",
            "text is is         and here is the part of speech is AUX        and this is the explainaltion verb, 3rd person singular present\n",
            "text is just       and here is the part of speech is ADV        and this is the explainaltion adverb\n",
            "text is fucking    and here is the part of speech is ADV        and this is the explainaltion adverb\n",
            "text is bad        and here is the part of speech is ADJ        and this is the explainaltion adjective (English), other noun-modifier (Chinese)\n",
            "text is .          and here is the part of speech is PUNCT      and this is the explainaltion punctuation mark, sentence closer\n",
            "text is I          and here is the part of speech is PRON       and this is the explainaltion pronoun, personal\n",
            "text is do         and here is the part of speech is AUX        and this is the explainaltion verb, non-3rd person singular present\n",
            "text is n't        and here is the part of speech is PART       and this is the explainaltion adverb\n",
            "text is deserve    and here is the part of speech is VERB       and this is the explainaltion verb, base form\n",
            "text is to         and here is the part of speech is PART       and this is the explainaltion infinitival \"to\"\n",
            "text is be         and here is the part of speech is AUX        and this is the explainaltion verb, base form\n",
            "text is here       and here is the part of speech is ADV        and this is the explainaltion adverb\n"
          ]
        }
      ],
      "source": [
        "for token in doc5:\n",
        "    print(f\"text is {token.text:{10}} and here is the part of speech is {token.pos_:{10}} and this is the explainaltion {spacy.explain(token.tag_)}\")"
      ]
    },
    {
      "cell_type": "code",
      "execution_count": null,
      "id": "de76f8d1",
      "metadata": {
        "id": "de76f8d1"
      },
      "outputs": [],
      "source": [
        "# pos counts"
      ]
    },
    {
      "cell_type": "code",
      "execution_count": null,
      "id": "aa1c7ca2",
      "metadata": {
        "id": "aa1c7ca2",
        "outputId": "35d2e8b2-e1f3-4442-ca38-26c21b6ee863"
      },
      "outputs": [
        {
          "name": "stdout",
          "output_type": "stream",
          "text": [
            "{95: 2, 87: 4, 92: 1, 86: 3, 84: 1, 97: 1, 94: 2, 100: 1}\n"
          ]
        }
      ],
      "source": [
        "pos_count= doc5.count_by(spacy.attrs.POS)\n",
        "print(pos_count)"
      ]
    },
    {
      "cell_type": "code",
      "execution_count": null,
      "id": "fb103db3",
      "metadata": {
        "id": "fb103db3",
        "outputId": "0b66a9e8-2cbf-4d0a-8e5f-151c61318260"
      },
      "outputs": [
        {
          "name": "stdout",
          "output_type": "stream",
          "text": [
            "84.ADJ  : 1\n",
            "86.ADV  : 3\n",
            "87.AUX  : 4\n",
            "92.NOUN : 1\n",
            "94.PART : 2\n",
            "95.PRON : 2\n",
            "97.PUNCT: 1\n",
            "100.VERB : 1\n"
          ]
        }
      ],
      "source": [
        "for k,v in sorted(pos_count.items()):\n",
        "    print(f'{k}.{doc5.vocab[k].text:{5}}: {v}')"
      ]
    },
    {
      "cell_type": "code",
      "execution_count": null,
      "id": "ed4305e4",
      "metadata": {
        "id": "ed4305e4"
      },
      "outputs": [],
      "source": []
    }
  ],
  "metadata": {
    "kernelspec": {
      "display_name": "Python 3 (ipykernel)",
      "language": "python",
      "name": "python3"
    },
    "language_info": {
      "codemirror_mode": {
        "name": "ipython",
        "version": 3
      },
      "file_extension": ".py",
      "mimetype": "text/x-python",
      "name": "python",
      "nbconvert_exporter": "python",
      "pygments_lexer": "ipython3",
      "version": "3.11.5"
    },
    "colab": {
      "provenance": [],
      "include_colab_link": true
    }
  },
  "nbformat": 4,
  "nbformat_minor": 5
}