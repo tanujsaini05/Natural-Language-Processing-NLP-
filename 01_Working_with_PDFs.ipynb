{
  "cells": [
    {
      "cell_type": "markdown",
      "metadata": {
        "id": "view-in-github",
        "colab_type": "text"
      },
      "source": [
        "<a href=\"https://colab.research.google.com/github/tanujsaini05/Natural-Language-Processing-NLP-/blob/main/01_Working_with_PDFs.ipynb\" target=\"_parent\"><img src=\"https://colab.research.google.com/assets/colab-badge.svg\" alt=\"Open In Colab\"/></a>"
      ]
    },
    {
      "cell_type": "markdown",
      "metadata": {
        "id": "-I555SA_xAHy"
      },
      "source": [
        "___\n",
        "\n",
        "<a href='https://www.udemy.com/user/joseportilla/'><img src='../Pierian_Data_Logo.png'/></a>\n",
        "___\n",
        "<center><em>Content Copyright by Pierian Data</em></center>"
      ]
    },
    {
      "cell_type": "markdown",
      "metadata": {
        "id": "H6bmzy_KxAH0"
      },
      "source": [
        "# Working with PDF Files\n",
        "\n",
        "Welcome back. Often you will have to deal with PDF files. There are [many libraries in Python for working with PDFs](https://www.binpress.com/tutorial/manipulating-pdfs-with-python/167), each with their pros and cons, the most common one being **PyPDF2**. You can install it with (note the case-sensitivity, you need to make sure your capitilization matches):\n",
        "\n",
        "    pip install PyPDF2\n",
        "    \n",
        "Keep in mind that not every PDF file can be read with this library. PDFs that are too blurry, have a special encoding, encrypted, or maybe just created with a particular program that doesn't work well with PyPDF2 won't be able to be read. If you find yourself in this situation, try using the libraries linked above, but keep in mind, these may also not work. The reason for this is because of the many different parameters for a PDF and how non-standard the settings can be, text could be shown as an image instead of a utf-8 encoding. There are many parameters to consider in this aspect.\n",
        "\n",
        "As far as PyPDF2 is concerned, it can only read the text from a PDF document, it won't be able to grab images or other media files from a PDF.\n",
        "___\n",
        "\n",
        "## Working with PyPDF2\n",
        "\n",
        "Let's being showing the basics of the PyPDF2 library."
      ]
    },
    {
      "cell_type": "code",
      "execution_count": null,
      "metadata": {
        "id": "a_PXp0wGxAH2",
        "outputId": "aeaae95f-1eb9-4979-9dc1-7bce898fc465"
      },
      "outputs": [
        {
          "name": "stdout",
          "output_type": "stream",
          "text": [
            "Collecting PyPDF2\n",
            "  Using cached pypdf2-3.0.1-py3-none-any.whl (232 kB)\n",
            "Installing collected packages: PyPDF2\n",
            "Successfully installed PyPDF2-3.0.1\n"
          ]
        }
      ],
      "source": [
        "!pip install PyPDF2"
      ]
    },
    {
      "cell_type": "code",
      "execution_count": null,
      "metadata": {
        "tags": [],
        "id": "4y1qZ3HtxAH4"
      },
      "outputs": [],
      "source": [
        "# note the capitalization\n",
        "import PyPDF2"
      ]
    },
    {
      "cell_type": "markdown",
      "metadata": {
        "id": "jrZzlxH_xAH5"
      },
      "source": [
        "## Reading PDFs\n",
        "\n",
        "Similar to the csv library, we open a pdf, then create a reader object for it. Notice how we use the binary method of reading , 'rb', instead of just 'r'."
      ]
    },
    {
      "cell_type": "code",
      "execution_count": null,
      "metadata": {
        "tags": [],
        "id": "4Imnu_gmxAH5"
      },
      "outputs": [],
      "source": [
        "# Notice we read it as a binary with 'rb'\n",
        "f = open('C:/Users/tjwin/Downloads/Test Data/1.pdf','rb')"
      ]
    },
    {
      "cell_type": "code",
      "execution_count": null,
      "metadata": {
        "tags": [],
        "id": "4Iv6e2Z0xAH6"
      },
      "outputs": [],
      "source": [
        "pdf_reader = PyPDF2.PdfReader(f)"
      ]
    },
    {
      "cell_type": "code",
      "execution_count": null,
      "metadata": {
        "id": "6KyJGTlnxAH6",
        "outputId": "236f5ed8-0962-4930-e207-89709f5ca780"
      },
      "outputs": [
        {
          "data": {
            "text/plain": [
              "8"
            ]
          },
          "execution_count": 6,
          "metadata": {},
          "output_type": "execute_result"
        }
      ],
      "source": [
        "len(pdf_reader.pages)"
      ]
    },
    {
      "cell_type": "code",
      "execution_count": null,
      "metadata": {
        "tags": [],
        "id": "GD7l3dr6xAH7",
        "outputId": "eef4d207-655f-45b1-af92-069f2e085da6"
      },
      "outputs": [
        {
          "name": "stdout",
          "output_type": "stream",
          "text": [
            "Page 1:\n",
            "10\n",
            " Life in the Deserts\n",
            "In Chapter 5, you have seen that water means life to\n",
            "plants, animals and people. It is difficult for anyone to\n",
            "live in places where there is no water to drink, where\n",
            "there is no grass for their cattle to feed on and where\n",
            "there is no water to help the crops to grow.\n",
            "We will now learn about the places in the world where\n",
            "people have learned to cope with extreme harsh\n",
            "temperatures; in some places as hot as fire and some as\n",
            "cold as ice. These are the desert areas of the world. These\n",
            "are characterised by low rainfall, scanty vegetation and\n",
            "extreme temperatures. Depending on the temperaturesthere can be hot deserts or cold deserts. The people\n",
            "inhabit these lands wherever little water is available to\n",
            "practise agriculture.\n",
            "THE HOT DESERT – S AHARA\n",
            "Look at the map of the world and the\n",
            "continent of Africa. Locate the Sahara\n",
            "desert covering a large part of North\n",
            "Africa. It is the world’s largest desert. It\n",
            "has an area of around 8.54 millionsq. km. Do you recall that India has an\n",
            "area of 3.2 million sq. km? The Sahara\n",
            "desert touches eleven countries. These\n",
            "are Algeria, Chad, Egypt, Libya, Mali,\n",
            "Mauritania, Moro cco, Niger, Sudan,\n",
            "Tunisia and Western Sahara.\n",
            "When you think of a desert the picture\n",
            "that immediately comes to your mind is that of sand. But\n",
            "besides the vast stretches of sands, that Sahara desert is\n",
            "covered with, there are also gravel plains and elevatedplateaus with bare rocky surface. These rocky surfaces\n",
            "may be more than 2500m high at some places.\n",
            "Fig. 10.1:  The Sahara Desert\n",
            "Glossary\n",
            "Desert:  It is an arid\n",
            "region characteriesed\n",
            "by extremely high or\n",
            "low temperatures andhas scarce vegetation.\n",
            "\n",
            "Page 2:\n",
            "72OUR ENVIRONMENT\n",
            "Do you know?Fig. 10.2:  Sahara in Africa\n",
            "Al Azizia in the Sahara\n",
            "desert, south of Tripoli,Libya recorded the\n",
            "highest temperature of\n",
            "57.7°C in 1922.Climate\n",
            "The climate of the Sahara desert is scorching hot and\n",
            "parch dry. It has a short rainy season. The sky iscloudless and clear. Here, the moisture evaporates\n",
            "faster than it accumulates. Days are unbelievably hot.\n",
            "The temperatures during the day may soar as high as\n",
            "50°C, heating up the sand and the bare rocks, which\n",
            "in turn radiates heat making everything around hot.The nights may be freezing cold with temperatures\n",
            "nearing zero degrees.\n",
            "Flora and Fauna\n",
            "Vegetation in the  Sahara desert includes cactus, date\n",
            "palms and acacia. In some places there are oasis – greenislands with date palms surrounding them. Camels,\n",
            "hyenas, jackals, foxes, scorpions, many varieties of\n",
            "Do you know?\n",
            "You will be surprised\n",
            "to know that presentday Sahara once usedto be a lush greenplain. Cave paintings\n",
            "in Sahara desert show\n",
            "that there used to berivers with crocodiles.Elephants, lions,giraffes, ostriches,\n",
            "sheep, cattle and\n",
            "goats were commonanimals. But thechange in climate haschanged it to a very\n",
            "hot and dry region.Morocco\n",
            "\n",
            "Page 3:\n",
            "LIFE IN THE DESERTS 73\n",
            "Do you know?\n",
            "Depressions are formed\n",
            "when the wind blows\n",
            "away the sands. In the\n",
            "depressions where\n",
            "underground waterreaches the surface,an oasis is formed.These areas are fertile.\n",
            "People may settle\n",
            "around these waterbodies and grow datepalms and othercrops. Som etimes the\n",
            "oasis may be\n",
            "abnormally large.Tafilalet Oasis inMorocco is a largeoasis with an area of\n",
            "about 13,000 sq.km.\n",
            "Fig. 10.3:  Oasis in the Sahara Desert\n",
            "People\n",
            "The Sahara desert despite its harsh climate has been\n",
            "inhabited by various groups of people, who pursuedifferent activities. Among them are the Bedouins and\n",
            "Tuaregs. These groups are nomadic tribes rearing\n",
            "livestock such as goats, sheep, camels and horses.\n",
            "These animals provide them with milk, hides from\n",
            "which they make leather for belts, slippers, waterbottles; hair is used for mats, carpets, clothes and\n",
            "blankets. They wear heavy robes as protection against\n",
            "dust storms and hot winds.\n",
            "The oasis in the Sahara and the Nile Valley in Egypt\n",
            "supports settled population. Since water is available, the\n",
            "people grow date palms. Crops such as rice, wheat, barley\n",
            "and beans are also grown. Egyptian cotton, famousworldwide is grown in Egypt.\n",
            "The discovery of oil – a product in great demand\n",
            "throughout the world, in Algeria, Libya and Egypt isconstantly transforming the Sahara desert. Other\n",
            "minerals of importance that are found in the area include\n",
            "iron, phosphorus, manganese and uranium.\n",
            "The cultural landscape of the Sahara is undergoing\n",
            "change. Gleaming glass cased office buildings tower over\n",
            "mosques and superhighways crisscross the ancient camel\n",
            "paths. Trucks are replacing camels in the salt trade.Tuaregs are seen acting as guides to foreign tourists.\n",
            "More and more nomadic herdsmen are taking to city life\n",
            "finding jobs in oil and gas operations.snakes and lizards are the prominent animal species\n",
            "living there.\n",
            "Do you know?\n",
            "Scientists have\n",
            "actually found\n",
            "skeletons of fish inthis desert. Whatcould have happened?\n",
            "\n",
            "Page 4:\n",
            "74OUR ENVIRONMENTTHE COLD DESERT  - LADAKH\n",
            "Ladakh is a cold desert  lying in the Great Himalayas,\n",
            "on the eastern side of Jammu and Kashmir (Fig. 10.4).\n",
            "The Karakoram Range  in the north and the Zanskar\n",
            "mountains  in the south enclose it. Several rivers flow\n",
            "through Ladakh, Indus  being the most important\n",
            "among them. The rivers form deep valleys and gorges.\n",
            "Several glaciers are found in Ladakh, for example the\n",
            "Gangri  glacier.\n",
            "The altitude in Ladakh varies from about 3000m\n",
            "in Kargil  to more than 8,000m in the Karakoram.\n",
            "Due to its high altitude, the climate is extremely coldand dry. The air at this altitude is so thin that the\n",
            "heat of the sun can be felt intensely. The day\n",
            "temperatures in summer are just above zero degreeand the night temperatures well below –30°C. It is\n",
            "freezing cold in the winters when the temperatures may\n",
            "remain below –40°C for most of the time. As it lies\n",
            "Word Origin\n",
            "Ladakh is made up of\n",
            "two words – “La”meaning ‘mountainpass’ and “Dak”meaning ‘country’\n",
            "Do you know?\n",
            "Drass, one of thecoldest inhabitedplaces on earth is\n",
            "located in Ladakh.\n",
            "Fig. 10.4:  Ladakh\n",
            "\n",
            "Page 5:\n",
            "LIFE IN THE DESERTS 75in the rain shadow of the Himalayas, there is little\n",
            "rainfall, as low as 10 cm every year. The area\n",
            "experiences freezing winds and burning hot sunlight.\n",
            "You will be surprised to know that if you sit in the\n",
            "sun with your feet in the shade, you may suffer fromboth sunstroke and frost bite at the same time.\n",
            "Flora and Fauna\n",
            "Due to high aridity, the vegetation is sparse. There are\n",
            "scanty patches of grasses and shrubs for animals tograze. Groves of willows and poplars are seen in the\n",
            "valleys. During the summers, fruit trees such as apples,\n",
            "apricots and walnuts bloom. Several species of birds are\n",
            "sighted in Ladakh. Robins, redstarts, Tibetan snowcock,\n",
            "raven and hoopoe are common. Some of these aremigratory birds. The animals of Ladakh are wild goats,\n",
            "wild sheep, yak and special kinds of dogs. The animals\n",
            "are reared to provide for the milk, meat and hides. Yak’s\n",
            "milk is used to make cheese and butter. The hair of the\n",
            "sheep and goat is used to make woollens.\n",
            "People\n",
            "Do you find any resemblance between the people of\n",
            "Ladakh and the inhabitants of Tibet and Central Asia?\n",
            "The people here are either Muslims or Buddhists. In\n",
            "fact several Buddhists monasteries dot the Ladakhilandscape with their traditional ‘gompas’. Some\n",
            "famous monasteries are Hemis, Thiksey, Shey and\n",
            "Lamayuru (Fig. 10.5).\n",
            "In the summer season the people are busy cultivating\n",
            "barley, potatoes, peas, beans and turnip. The climate inwinter months is so harsh that\n",
            "people keep themselves engaged in\n",
            "festivities and ceremonies. The\n",
            "women are very hard working. They\n",
            "work not only in the house andfields, but also manage small\n",
            "business and shops. Leh, the capital\n",
            "of Ladakh is well connected both by\n",
            "road and air. The National Highway\n",
            "1A connects Leh to KashmirValley through the Zoji la Pass. Can\n",
            "you name some more passes in\n",
            "the Himalayas?\n",
            "Do you know?\n",
            "The finest cricket bats\n",
            "are made from thewood of the willow\n",
            "trees.\n",
            "Do you know?\n",
            "The Chiru or theTibetan antelope is an\n",
            "endangered species. Itis hunted for its woolknown as shahtoosh ,\n",
            "which is light in\n",
            "weight and extremely\n",
            "warm.\n",
            "Fig. 10.5  Thiksey Monastery\n",
            "Do you know?\n",
            "Ladakh is also knownas \n",
            "Khapa-chan  which\n",
            "means snow land.\n",
            "\n",
            "Page 6:\n",
            "76OUR ENVIRONMENTTourism is a major\n",
            "activity with several\n",
            "tourists streaming in from\n",
            "within India and abroad.\n",
            "Visits to the gompas,\n",
            "treks to see the meadowsand glaciers, witnessing\n",
            "ceremonies and festivities\n",
            "are important activities.\n",
            "Life of people is\n",
            "undergoing change dueto modernisation. But\n",
            "the people of Ladakh\n",
            "have over the centuries learned to live in balance and\n",
            "harmony with nature. Due to scarcity of resources like\n",
            "water and fuel, they are used with reverence and care.Nothing is discarded or wasted.\n",
            "Exercises\n",
            "Do you know?\n",
            "Manali - Leh highway\n",
            "crosses four passes,Rohtang la,Baralacha laLungalacha la and\n",
            "Tanglang la. The\n",
            "highway opens onlybetween July andSeptember when snowis cleared from the road.\n",
            "Baralacha la\n",
            "1.  Answer the following questions.\n",
            "(a) What are the two types of deserts found in the world?\n",
            "(b) In which continent is the Sahara desert located?\n",
            "(c) What are the climatic conditions of the Ladakh desert?\n",
            "(d) What mainly attracts tourists to Ladakh?\n",
            "(e) What type of clothes the people of the Sahara desert wear?\n",
            "(f) Name the trees that grow in Ladakh.\n",
            "2. Tick the correct answer.\n",
            " (i) Sahara is located in which part of Africa\n",
            "(a) eastern (b) northern (c) western\n",
            "(ii) Sahara is what type of desert\n",
            "(a) cold (b) hot (c) mild\n",
            "(iii) The Ladakh desert is mainly inhabited by\n",
            "(a) Christians and Muslims(b) Buddhists and Muslims(c) Christians and Buddhists\n",
            "(iv) Deserts are characterised by\n",
            "(a) scanty vegetation(b) heavy precipitation(c) low evaporationFig. 10.6.  Ladakhi Women in\n",
            "Traditional Dress\n",
            "\n",
            "\n",
            "Page 7:\n",
            "LIFE IN THE DESERTS 77(v) Hemis in the Ladakh is a famous\n",
            "(a) temple (b) church (c) monastery\n",
            "(vi) Egypt is famous for growing\n",
            "(a) wheat (b) maize (c) cotton\n",
            "3. Match the following.\n",
            "(i) Oasis (a) Libya\n",
            "(ii) Bedouins (b) monastery\n",
            "(iii) Oil (c) glacier\n",
            "(iv) Gangri (d) depressions with water\n",
            "(v) Lamayuru (e) cold desert\n",
            "(f) Sahara\n",
            "4. Give reasons.\n",
            "(i) There is scanty vegetation in the deserts.\n",
            "(ii) People of the Sahara desert wear heavy robes.\n",
            "5. Map skills.\n",
            "(i) On the outline map of Africa, mark the Sahara desert and any four countries\n",
            "around it.\n",
            "(ii) On the outline map of India, mark the Karakoram Range, Zanskar Range,\n",
            "Ladakh and Zoji La pass.\n",
            "Desert Game\n",
            "This is a class room activity involving all the students. The teacher will create alist of desert creatures. The number of the creatures should be same as the numberof students in the class. The creatures can be picked up from the categories ofmammals, birds and reptiles. Mammals can include – camel, yak, fox, sheep, goat,antelope…Birds – raven, eagle, vulture, turkey…Reptiles – snakes …\n",
            "Assign one desert creature to each student. Ask the student to write three\n",
            "characteristics of the creature on plain sheet of paper. (students can use index\n",
            "cards of size 10 cm × 15 cm). Questions such as - in what type of deserts it isfound? Major adaptation? Use to man?\n",
            "These characteristics will be used as clues in the guessing game. On the board\n",
            "make three columns – mammals, birs and reptiles. Paste a sheet of paper in thecolumn under the particular category. The class can be divided in three to fourgroups. They will compete against each other in the ‘desert game’. Each group nowtakes turn in guessing the correct answer. Explain to the class that they have toguess what animal matches the characteristics listed on the paper.For example:\n",
            " Animal of hot desert Has double set of eyelashes to keep away the sand The hide is used for making water bottles\n",
            " The correct answer is ‘camel’. Within the group there will be a student who hasprepared the card. That student should not answer. Ten points are awarded for\n",
            "the correct answer.\n",
            "This game will enable students to understand the desert. You can play the\n",
            "same game by taking different types of fruits, flora and the clothes the people wear.6. For fun.\n",
            "\n",
            "Page 8:\n",
            "http://school.discovery.com/\n",
            "http://nationalgeographic.com/\n",
            "http://www.incredibleindia.org/\n",
            "http://www.wikipedia.org/http://www.greenpeace.org/\n",
            "http://www.britannica.com/\n",
            "http;//www.animalplanet.co.uk/Some Internet Sources for More InformationAPPENDIX\n",
            "\n"
          ]
        }
      ],
      "source": [
        "page_number = 0\n",
        "for i in range(len(pdf_reader.pages)):\n",
        "\n",
        "    page_one = pdf_reader.pages[i]\n",
        "    text = page_one.extract_text()\n",
        "    print(f\"Page {i + 1}:\\n{text}\\n\")"
      ]
    },
    {
      "cell_type": "markdown",
      "metadata": {
        "id": "dlamE_HHxAH7"
      },
      "source": [
        "We can then extract the text:"
      ]
    },
    {
      "cell_type": "code",
      "execution_count": null,
      "metadata": {
        "tags": [],
        "id": "UtGoRsauxAH7",
        "outputId": "751d0eb2-7854-4b7e-f0f5-77e49d31ae89"
      },
      "outputs": [
        {
          "ename": "AttributeError",
          "evalue": "'_VirtualList' object has no attribute 'extract_text'",
          "output_type": "error",
          "traceback": [
            "\u001b[1;31m---------------------------------------------------------------------------\u001b[0m",
            "\u001b[1;31mAttributeError\u001b[0m                            Traceback (most recent call last)",
            "Cell \u001b[1;32mIn[13], line 1\u001b[0m\n\u001b[1;32m----> 1\u001b[0m page_one_text \u001b[38;5;241m=\u001b[39m page_one\u001b[38;5;241m.\u001b[39mextract_text()\n",
            "\u001b[1;31mAttributeError\u001b[0m: '_VirtualList' object has no attribute 'extract_text'"
          ]
        }
      ],
      "source": [
        "page_one_text = page_one.extract_text()"
      ]
    },
    {
      "cell_type": "code",
      "execution_count": null,
      "metadata": {
        "id": "0z5jV3OhxAH8"
      },
      "outputs": [],
      "source": [
        "page_one_text"
      ]
    },
    {
      "cell_type": "code",
      "execution_count": null,
      "metadata": {
        "tags": [],
        "id": "1FglxzEwxAH8"
      },
      "outputs": [],
      "source": [
        "f.close()"
      ]
    },
    {
      "cell_type": "markdown",
      "metadata": {
        "id": "O_hYV8tUxAH9"
      },
      "source": [
        "### Adding to PDFs\n",
        "\n",
        "We can not write to PDFs using Python because of the differences between the single string type of Python, and the variety of fonts, placements, and other parameters that a PDF could have.\n",
        "\n",
        "What we can do is copy pages and append pages to the end."
      ]
    },
    {
      "cell_type": "code",
      "execution_count": null,
      "metadata": {
        "tags": [],
        "id": "rh0G1ZsuxAH9"
      },
      "outputs": [],
      "source": [
        "f = open('Working_Business_Proposal.pdf','rb')\n",
        "pdf_reader = PyPDF2.PdfReader(f)"
      ]
    },
    {
      "cell_type": "code",
      "execution_count": null,
      "metadata": {
        "tags": [],
        "id": "MDTZbTKnxAH-"
      },
      "outputs": [],
      "source": [
        "page_number = 0\n",
        "page_one = pdf_reader.pages[0]"
      ]
    },
    {
      "cell_type": "code",
      "execution_count": null,
      "metadata": {
        "tags": [],
        "id": "a-HNFwn0xAH-"
      },
      "outputs": [],
      "source": [
        "pdf_writer = PyPDF2.PdfWriter()"
      ]
    },
    {
      "cell_type": "code",
      "execution_count": null,
      "metadata": {
        "tags": [],
        "id": "FK8U7amexAH-"
      },
      "outputs": [],
      "source": [
        "pdf_writer.add_page(page_one);"
      ]
    },
    {
      "cell_type": "code",
      "execution_count": null,
      "metadata": {
        "tags": [],
        "id": "F0pxMUbNxAH_"
      },
      "outputs": [],
      "source": [
        "pdf_output = open(\"Some_New_Doc.pdf\",\"wb\")"
      ]
    },
    {
      "cell_type": "code",
      "execution_count": null,
      "metadata": {
        "tags": [],
        "id": "uS_ETB_wxAH_",
        "outputId": "8b6c4c08-f692-4b48-f13c-1e8bc33d1dd1"
      },
      "outputs": [
        {
          "data": {
            "text/plain": [
              "(False, <_io.BufferedWriter name='Some_New_Doc.pdf'>)"
            ]
          },
          "execution_count": 28,
          "metadata": {},
          "output_type": "execute_result"
        }
      ],
      "source": [
        "pdf_writer.write(pdf_output)"
      ]
    },
    {
      "cell_type": "code",
      "execution_count": null,
      "metadata": {
        "tags": [],
        "id": "RmaDhmoBxAIA"
      },
      "outputs": [],
      "source": [
        "f.close()"
      ]
    },
    {
      "cell_type": "markdown",
      "metadata": {
        "id": "ml5GLB9WxAIA"
      },
      "source": [
        "Now we have copied a page and added it to another new document!"
      ]
    },
    {
      "cell_type": "markdown",
      "metadata": {
        "id": "6BRkC2hdxAIA"
      },
      "source": [
        "___"
      ]
    },
    {
      "cell_type": "markdown",
      "metadata": {
        "id": "W6MDbpxZxAIA"
      },
      "source": [
        "## Simple Example\n",
        "\n",
        "Let's try to grab all the text from this PDF file:"
      ]
    },
    {
      "cell_type": "code",
      "execution_count": null,
      "metadata": {
        "tags": [],
        "id": "qiM6QU1bxAIB"
      },
      "outputs": [],
      "source": [
        "f = open('Working_Business_Proposal.pdf','rb')\n",
        "\n",
        "# List of every page's text.\n",
        "# The index will correspond to the page number.\n",
        "pdf_text = []\n",
        "\n",
        "pdf_reader = PyPDF2.PdfReader(f)\n",
        "\n",
        "for p in range(len(pdf_reader.pages)):\n",
        "\n",
        "    page = pdf_reader.pages[0]\n",
        "\n",
        "    pdf_text.append(page.extract_text())\n",
        ""
      ]
    },
    {
      "cell_type": "code",
      "execution_count": null,
      "metadata": {
        "id": "R2pKw4nvxAIB",
        "outputId": "5ce9873b-2936-4a33-dab0-6cbf55647d55"
      },
      "outputs": [
        {
          "data": {
            "text/plain": [
              "['Business Proposal The Revolution is Coming Leverage agile frameworks to provide a robust synopsis for high level overviews. Iterative approaches to corporate strategy foster collaborative thinking to further the overall value proposition. Organically grow the holistic world view of disruptive innovation via workplace diversity and empowerment. Bring to the table win-win survival strategies to ensure proactive domination. At the end of the day, going forward, a new normal that has evolved from generation X is on the runway heading towards a streamlined cloud solution. User generated content in real-time will have multiple touchpoints for offshoring. Capitalize on low hanging fruit to identify a ballpark value added activity to beta test. Override the digital divide with additional clickthroughs from DevOps. Nanotechnology immersion along the information highway will close the loop on focusing solely on the bottom line. Podcasting operational change management inside of workﬂows to establish a framework. Taking seamless key performance indicators ofﬂine to maximise the long tail. Keeping your eye on the ball while performing a deep dive on the start-up mentality to derive convergence on cross-platform integration. Collaboratively administrate empowered markets via plug-and-play networks. Dynamically procrastinate B2C users after installed base beneﬁts. Dramatically visualize customer directed convergence without revolutionary ROI. Efﬁciently unleash cross-media information without cross-media value. Quickly maximize timely deliverables for real-time schemas. Dramatically maintain clicks-and-mortar solutions without functional solutions. BUSINESS PROPOSAL!1',\n",
              " 'Business Proposal The Revolution is Coming Leverage agile frameworks to provide a robust synopsis for high level overviews. Iterative approaches to corporate strategy foster collaborative thinking to further the overall value proposition. Organically grow the holistic world view of disruptive innovation via workplace diversity and empowerment. Bring to the table win-win survival strategies to ensure proactive domination. At the end of the day, going forward, a new normal that has evolved from generation X is on the runway heading towards a streamlined cloud solution. User generated content in real-time will have multiple touchpoints for offshoring. Capitalize on low hanging fruit to identify a ballpark value added activity to beta test. Override the digital divide with additional clickthroughs from DevOps. Nanotechnology immersion along the information highway will close the loop on focusing solely on the bottom line. Podcasting operational change management inside of workﬂows to establish a framework. Taking seamless key performance indicators ofﬂine to maximise the long tail. Keeping your eye on the ball while performing a deep dive on the start-up mentality to derive convergence on cross-platform integration. Collaboratively administrate empowered markets via plug-and-play networks. Dynamically procrastinate B2C users after installed base beneﬁts. Dramatically visualize customer directed convergence without revolutionary ROI. Efﬁciently unleash cross-media information without cross-media value. Quickly maximize timely deliverables for real-time schemas. Dramatically maintain clicks-and-mortar solutions without functional solutions. BUSINESS PROPOSAL!1',\n",
              " 'Business Proposal The Revolution is Coming Leverage agile frameworks to provide a robust synopsis for high level overviews. Iterative approaches to corporate strategy foster collaborative thinking to further the overall value proposition. Organically grow the holistic world view of disruptive innovation via workplace diversity and empowerment. Bring to the table win-win survival strategies to ensure proactive domination. At the end of the day, going forward, a new normal that has evolved from generation X is on the runway heading towards a streamlined cloud solution. User generated content in real-time will have multiple touchpoints for offshoring. Capitalize on low hanging fruit to identify a ballpark value added activity to beta test. Override the digital divide with additional clickthroughs from DevOps. Nanotechnology immersion along the information highway will close the loop on focusing solely on the bottom line. Podcasting operational change management inside of workﬂows to establish a framework. Taking seamless key performance indicators ofﬂine to maximise the long tail. Keeping your eye on the ball while performing a deep dive on the start-up mentality to derive convergence on cross-platform integration. Collaboratively administrate empowered markets via plug-and-play networks. Dynamically procrastinate B2C users after installed base beneﬁts. Dramatically visualize customer directed convergence without revolutionary ROI. Efﬁciently unleash cross-media information without cross-media value. Quickly maximize timely deliverables for real-time schemas. Dramatically maintain clicks-and-mortar solutions without functional solutions. BUSINESS PROPOSAL!1',\n",
              " 'Business Proposal The Revolution is Coming Leverage agile frameworks to provide a robust synopsis for high level overviews. Iterative approaches to corporate strategy foster collaborative thinking to further the overall value proposition. Organically grow the holistic world view of disruptive innovation via workplace diversity and empowerment. Bring to the table win-win survival strategies to ensure proactive domination. At the end of the day, going forward, a new normal that has evolved from generation X is on the runway heading towards a streamlined cloud solution. User generated content in real-time will have multiple touchpoints for offshoring. Capitalize on low hanging fruit to identify a ballpark value added activity to beta test. Override the digital divide with additional clickthroughs from DevOps. Nanotechnology immersion along the information highway will close the loop on focusing solely on the bottom line. Podcasting operational change management inside of workﬂows to establish a framework. Taking seamless key performance indicators ofﬂine to maximise the long tail. Keeping your eye on the ball while performing a deep dive on the start-up mentality to derive convergence on cross-platform integration. Collaboratively administrate empowered markets via plug-and-play networks. Dynamically procrastinate B2C users after installed base beneﬁts. Dramatically visualize customer directed convergence without revolutionary ROI. Efﬁciently unleash cross-media information without cross-media value. Quickly maximize timely deliverables for real-time schemas. Dramatically maintain clicks-and-mortar solutions without functional solutions. BUSINESS PROPOSAL!1',\n",
              " 'Business Proposal The Revolution is Coming Leverage agile frameworks to provide a robust synopsis for high level overviews. Iterative approaches to corporate strategy foster collaborative thinking to further the overall value proposition. Organically grow the holistic world view of disruptive innovation via workplace diversity and empowerment. Bring to the table win-win survival strategies to ensure proactive domination. At the end of the day, going forward, a new normal that has evolved from generation X is on the runway heading towards a streamlined cloud solution. User generated content in real-time will have multiple touchpoints for offshoring. Capitalize on low hanging fruit to identify a ballpark value added activity to beta test. Override the digital divide with additional clickthroughs from DevOps. Nanotechnology immersion along the information highway will close the loop on focusing solely on the bottom line. Podcasting operational change management inside of workﬂows to establish a framework. Taking seamless key performance indicators ofﬂine to maximise the long tail. Keeping your eye on the ball while performing a deep dive on the start-up mentality to derive convergence on cross-platform integration. Collaboratively administrate empowered markets via plug-and-play networks. Dynamically procrastinate B2C users after installed base beneﬁts. Dramatically visualize customer directed convergence without revolutionary ROI. Efﬁciently unleash cross-media information without cross-media value. Quickly maximize timely deliverables for real-time schemas. Dramatically maintain clicks-and-mortar solutions without functional solutions. BUSINESS PROPOSAL!1']"
            ]
          },
          "execution_count": 32,
          "metadata": {},
          "output_type": "execute_result"
        }
      ],
      "source": [
        "pdf_text"
      ]
    },
    {
      "cell_type": "code",
      "execution_count": null,
      "metadata": {
        "id": "2upiiP6LxAIB",
        "outputId": "a32d702a-3302-4068-fa2b-eb733e0a8d40"
      },
      "outputs": [
        {
          "name": "stdout",
          "output_type": "stream",
          "text": [
            "Business Proposal The Revolution is Coming Leverage agile frameworks to provide a robust synopsis for high level overviews. Iterative approaches to corporate strategy foster collaborative thinking to further the overall value proposition. Organically grow the holistic world view of disruptive innovation via workplace diversity and empowerment. Bring to the table win-win survival strategies to ensure proactive domination. At the end of the day, going forward, a new normal that has evolved from generation X is on the runway heading towards a streamlined cloud solution. User generated content in real-time will have multiple touchpoints for offshoring. Capitalize on low hanging fruit to identify a ballpark value added activity to beta test. Override the digital divide with additional clickthroughs from DevOps. Nanotechnology immersion along the information highway will close the loop on focusing solely on the bottom line. Podcasting operational change management inside of workﬂows to establish a framework. Taking seamless key performance indicators ofﬂine to maximise the long tail. Keeping your eye on the ball while performing a deep dive on the start-up mentality to derive convergence on cross-platform integration. Collaboratively administrate empowered markets via plug-and-play networks. Dynamically procrastinate B2C users after installed base beneﬁts. Dramatically visualize customer directed convergence without revolutionary ROI. Efﬁciently unleash cross-media information without cross-media value. Quickly maximize timely deliverables for real-time schemas. Dramatically maintain clicks-and-mortar solutions without functional solutions. BUSINESS PROPOSAL!1\n"
          ]
        }
      ],
      "source": [
        "print(pdf_text[3])"
      ]
    },
    {
      "cell_type": "markdown",
      "metadata": {
        "id": "aWMb0brsxAIB"
      },
      "source": [
        "Excellent work! That is all for PyPDF2 for now, remember that this won't work with every PDF file and is limited in its scope to only text of PDFs."
      ]
    }
  ],
  "metadata": {
    "kernelspec": {
      "display_name": "Python 3 (ipykernel)",
      "language": "python",
      "name": "python3"
    },
    "language_info": {
      "codemirror_mode": {
        "name": "ipython",
        "version": 3
      },
      "file_extension": ".py",
      "mimetype": "text/x-python",
      "name": "python",
      "nbconvert_exporter": "python",
      "pygments_lexer": "ipython3",
      "version": "3.11.5"
    },
    "colab": {
      "provenance": [],
      "include_colab_link": true
    }
  },
  "nbformat": 4,
  "nbformat_minor": 0
}